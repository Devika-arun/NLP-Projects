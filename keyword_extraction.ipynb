{
 "cells": [
  {
   "cell_type": "code",
   "execution_count": 1,
   "metadata": {},
   "outputs": [],
   "source": [
    "from nltk import tokenize\n",
    "from operator import itemgetter\n",
    "import math"
   ]
  },
  {
   "cell_type": "code",
   "execution_count": 2,
   "metadata": {},
   "outputs": [],
   "source": [
    "doc = 'I am a graduate. I want to learn Python. I like learning Python.Python is easy. Python is interesting.'"
   ]
  },
  {
   "cell_type": "code",
   "execution_count": 4,
   "metadata": {},
   "outputs": [
    {
     "name": "stdout",
     "output_type": "stream",
     "text": [
      "18\n",
      "4\n"
     ]
    }
   ],
   "source": [
    "import nltk\n",
    "from nltk.corpus import stopwords\n",
    "from nltk.tokenize import word_tokenize\n",
    "stop_words = set(stopwords.words('english'))\n",
    "total_words = doc.split()\n",
    "total_word_length = len(total_words)\n",
    "print(total_word_length)\n",
    "total_sentences = tokenize.sent_tokenize(doc)\n",
    "total_sent_len = len(total_sentences)\n",
    "print(total_sent_len)"
   ]
  },
  {
   "cell_type": "code",
   "execution_count": 5,
   "metadata": {},
   "outputs": [
    {
     "name": "stdout",
     "output_type": "stream",
     "text": [
      "{'I': 0.16666666666666666, 'graduate': 0.05555555555555555, 'want': 0.05555555555555555, 'learn': 0.05555555555555555, 'Python': 0.1111111111111111, 'like': 0.05555555555555555, 'learning': 0.05555555555555555, 'PythonPython': 0.05555555555555555, 'easy': 0.05555555555555555, 'interesting': 0.05555555555555555}\n"
     ]
    }
   ],
   "source": [
    "tf_score = {}\n",
    "for each_word in total_words:\n",
    "  each_word = each_word.replace('.','')\n",
    "  if each_word not in stop_words:\n",
    "    if each_word in tf_score:\n",
    "      tf_score[each_word] += 1\n",
    "    else:\n",
    "      tf_score[each_word] = 1\n",
    "# Dividing by total_word_length for each dictionary element\n",
    "tf_score.update((x, y/int(total_word_length)) for x, y in tf_score.items())\n",
    "print(tf_score)"
   ]
  },
  {
   "cell_type": "code",
   "execution_count": 6,
   "metadata": {},
   "outputs": [],
   "source": [
    "def check_sent(word, sentences):\n",
    "  final = [all([w in x for w in word]) for x in sentences]\n",
    "  sent_len = [sentences[i] for i in range(0, len(final)) if final[i]]\n",
    "  return int(len(sent_len))"
   ]
  },
  {
   "cell_type": "code",
   "execution_count": 7,
   "metadata": {},
   "outputs": [
    {
     "name": "stdout",
     "output_type": "stream",
     "text": [
      "{'I': 0.28768207245178085, 'graduate': 1.3862943611198906, 'want': 1.3862943611198906, 'learn': 1.3862943611198906, 'Python': 0.28768207245178085, 'like': 1.3862943611198906, 'learning': 1.3862943611198906, 'PythonPython': 1.3862943611198906, 'easy': 1.3862943611198906, 'interesting': 1.3862943611198906}\n",
      "{'I': 0.04794701207529681, 'graduate': 0.07701635339554948, 'want': 0.07701635339554948, 'learn': 0.07701635339554948, 'Python': 0.03196467471686454, 'like': 0.07701635339554948, 'learning': 0.07701635339554948, 'PythonPython': 0.07701635339554948, 'easy': 0.07701635339554948, 'interesting': 0.07701635339554948}\n"
     ]
    }
   ],
   "source": [
    "idf_score = {}\n",
    "for each_word in total_words:\n",
    "  each_word = each_word.replace('.','')\n",
    "  if each_word not in stop_words:\n",
    "    if each_word in idf_score:\n",
    "      idf_score[each_word] = check_sent(each_word, total_sentences)\n",
    "    else:\n",
    "      idf_score[each_word] = 1\n",
    "# Performing a log and divide\n",
    "idf_score.update((x, math.log(int(total_sent_len)/y)) for x, y in idf_score.items())\n",
    "print(idf_score)\n",
    "tf_idf_score = {key: tf_score[key] * idf_score.get(key, 0) for key in tf_score.keys()}\n",
    "print(tf_idf_score)"
   ]
  },
  {
   "cell_type": "code",
   "execution_count": 8,
   "metadata": {},
   "outputs": [
    {
     "name": "stdout",
     "output_type": "stream",
     "text": [
      "{'graduate': 0.07701635339554948, 'want': 0.07701635339554948, 'learn': 0.07701635339554948, 'like': 0.07701635339554948, 'learning': 0.07701635339554948}\n"
     ]
    }
   ],
   "source": [
    "def get_top_n(dict_elem, n):\n",
    "  result = dict(sorted(dict_elem.items(), key = itemgetter(1), reverse = True)[:n])\n",
    "  return result\n",
    "print(get_top_n(tf_idf_score, 5))"
   ]
  }
 ],
 "metadata": {
  "kernelspec": {
   "display_name": "Python 3",
   "language": "python",
   "name": "python3"
  },
  "language_info": {
   "codemirror_mode": {
    "name": "ipython",
    "version": 3
   },
   "file_extension": ".py",
   "mimetype": "text/x-python",
   "name": "python",
   "nbconvert_exporter": "python",
   "pygments_lexer": "ipython3",
   "version": "3.11.2"
  }
 },
 "nbformat": 4,
 "nbformat_minor": 2
}
